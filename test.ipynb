{
 "metadata": {
  "language_info": {
   "codemirror_mode": {
    "name": "ipython",
    "version": 3
   },
   "file_extension": ".py",
   "mimetype": "text/x-python",
   "name": "python",
   "nbconvert_exporter": "python",
   "pygments_lexer": "ipython3",
   "version": "3.8.7"
  },
  "orig_nbformat": 2,
  "kernelspec": {
   "name": "python387jvsc74a57bd0dd810980ff46fd25be698713c1a9098cedc8381bfbdff56984ee6654e1ca9526",
   "display_name": "Python 3.8.7 64-bit"
  }
 },
 "nbformat": 4,
 "nbformat_minor": 2,
 "cells": [
  {
   "cell_type": "code",
   "execution_count": 1,
   "metadata": {},
   "outputs": [],
   "source": [
    "import tensorflow as tf"
   ]
  },
  {
   "cell_type": "code",
   "execution_count": 3,
   "metadata": {},
   "outputs": [
    {
     "output_type": "stream",
     "name": "stdout",
     "text": [
      "tf.Tensor(\n[[[1.2421572 5.21603  ]\n  [1.33865   9.073278 ]]\n\n [[7.086942  9.805056 ]\n  [9.5442915 5.9516134]]], shape=(2, 2, 2), dtype=float32)\n"
     ]
    }
   ],
   "source": [
    "B, K, N = 2, 2, 2\n",
    "inputs = tf.random.uniform(shape=[B, K, N], minval=0, maxval=10)\n",
    "print(inputs)"
   ]
  },
  {
   "cell_type": "code",
   "execution_count": 4,
   "metadata": {},
   "outputs": [
    {
     "output_type": "stream",
     "name": "stdout",
     "text": [
      "gamma:  tf.Tensor([[0.09098339 0.78476334]], shape=(1, 2), dtype=float32)\nbeta: tf.Tensor([[0.6133505  0.38725078]], shape=(1, 2), dtype=float32)\n"
     ]
    }
   ],
   "source": [
    "gamma = tf.random.uniform(shape=[1, N])\n",
    "beta = tf.random.uniform(shape=[1, N])\n",
    "print('gamma: ', gamma)\n",
    "print('beta:', beta)"
   ]
  },
  {
   "cell_type": "code",
   "execution_count": null,
   "metadata": {},
   "outputs": [],
   "source": [
    "_K = inputs.shape[-2]\n",
    "_count = tf.reshape(range(1, _K+1), [1, _K, 1])\n",
    "_count = tf.cast(_count, tf.float32)\n",
    "\n",
    "_H_mean = tf.reduce_mean(inputs, axis=-1, keepdims=True)\n",
    "_H_pow_mean = tf.reduce_mean(tf.pow(inputs, 2), axis=-1, keepdims=True)\n",
    "\n",
    "_sum = tf.cumsum(_H_mean, axis=-2)\n",
    "_pow_sum = tf.cumsum(_H_pow_mean, axis=-2)\n",
    "\n",
    "_mean = _sum / _count\n",
    "_var = (_pow_sum - 2*_mean*_sum) / _count + tf.pow(_mean, 2)\n",
    "\n",
    "outputs = self.gamma * ((inputs - _mean) /\n",
    "                    tf.sqrt(_var + self.eps)) + self.beta"
   ]
  }
 ]
}